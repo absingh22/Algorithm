{
  "cells": [
    {
      "attachments": {},
      "cell_type": "markdown",
      "metadata": {
        "id": "5mxFsihouWcx"
      },
      "source": [
        "# **Teacher Learner Based Optimization (TLBO)**\n",
        "\n",
        "Name   : ABHISHEK SINGH"
      ]
    },
    {
      "cell_type": "code",
      "execution_count": 73,
      "metadata": {
        "id": "XMrKzGraSWyv"
      },
      "outputs": [],
      "source": [
        "import numpy as np\n",
        "\n",
        "# TLBO algorithm\n",
        "def TLBO(pop, f_obj, f_cons):\n",
        "    \n",
        "    best = pop[np.argmin([f_obj(individual) for individual in pop])]\n",
        "    \n",
        "    for i in range(max_iter):\n",
        "        # Teacher phase\n",
        "        teacher = best.copy()\n",
        "        for j in range(n_dim):\n",
        "            other_indices = [k for k in range(n_pop) if k != j]\n",
        "            mean_others = np.mean(pop[other_indices], axis=0)\n",
        "            if abs(mean_others[j] - teacher[j]) < np.finfo(float).eps:\n",
        "                delta_j = np.random.uniform(0, 1)\n",
        "            else:\n",
        "                delta_j = np.random.uniform(0, 1) * abs(mean_others[j] - teacher[j])\n",
        "            if mean_others[j] < teacher[j]:\n",
        "                teacher[j] = teacher[j] - delta_j\n",
        "            else:\n",
        "                teacher[j] = teacher[j] + delta_j\n",
        "        \n",
        "        # Learner phase\n",
        "        for j in range(n_pop):\n",
        "            learner = pop[j].copy()\n",
        "            a = np.random.randint(n_pop)\n",
        "            while a == j:\n",
        "                a = np.random.randint(n_pop)\n",
        "            b = np.random.randint(n_pop)\n",
        "            while b == j or b == a:\n",
        "                b = np.random.randint(n_pop)\n",
        "            for k in range(n_dim):\n",
        "                if np.random.uniform(0, 1) < 0.5:\n",
        "                    learner[k] = learner[k] + np.random.uniform(0, 1) * (teacher[k] - np.random.uniform(0, 1) * abs(2 * pop[a][k] - pop[b][k]))\n",
        "                else:\n",
        "                    learner[k] = learner[k] - np.random.uniform(0, 1) * (teacher[k] - np.random.uniform(0, 1) * abs(2 * pop[a][k] - pop[b][k]))\n",
        "            learner = np.clip(learner, -1, 1)\n",
        "            \n",
        "            # Apply constraints\n",
        "            c = f_cons(learner)\n",
        "            if np.any(c > 0):\n",
        "                for k in range(len(c)):\n",
        "                    if c[k] > 0:\n",
        "                        learner[k] = learner[k] - c[k]\n",
        "                        learner[k] = np.clip(learner[k], -1, 1)\n",
        "            \n",
        "            # Update the population\n",
        "            if f_obj(learner) < f_obj(pop[j]): # For maximization reverse the sign\n",
        "                pop[j] = learner.copy()\n",
        "                if f_obj(learner) < f_obj(best): # For maximization reverse the sign\n",
        "                    best = learner.copy()\n",
        "    \n",
        "    return best"
      ]
    },
    {
      "cell_type": "code",
      "execution_count": 69,
      "metadata": {
        "colab": {
          "base_uri": "https://localhost:8080/"
        },
        "id": "LSmnT1WLUTND",
        "outputId": "ae815436-5437-4500-c4d9-3a7a258e9079"
      },
      "outputs": [
        {
          "name": "stdout",
          "output_type": "stream",
          "text": [
            "No. of generation:  500\n",
            "Population Size:  50\n",
            "No. of design variables:  13\n",
            "\n",
            "Best Student found:\n",
            "[-1.         -1.         -1.         -1.         -1.         -1.\n",
            " -1.          0.64633084  1.          1.          0.94162636  0.652017\n",
            "  0.94814267]\n",
            "\n",
            "Fitness of best Student: -43.18811687108179\n"
          ]
        }
      ],
      "source": [
        "# Benchmark 1 - quadratic minimization with 13 variables and 9 linear inequality constraints\n",
        "def objective_1(x):\n",
        "    return 5 * sum(x[:4]) - 5 * sum(x[:4]**2) - sum(x[5:13])\n",
        "\n",
        "# Inequality constraint functions\n",
        "def constraint_1(x):\n",
        "    constraints = np.zeros(len(x))\n",
        "    constraints[0] = 2 * x[0] + 2 * x[1] + x[9] + x[10] - 10\n",
        "    constraints[1] = 2 * x[0] + 2 * x[2] + x[9] + x[11] - 10\n",
        "    constraints[2] = 2 * x[1] + 2 * x[2] + x[10] + x[11] - 10\n",
        "    constraints[3] = (- 8 * x[0]) + x[9]\n",
        "    constraints[4] = (- 8 * x[1]) + x[10]\n",
        "    constraints[5] = (- 8 * x[2]) + x[11]\n",
        "    constraints[6] = (- 2 * x[3]) - x[4] + x[9]\n",
        "    constraints[7] = (- 2 * x[5]) - x[6] + x[11]\n",
        "    constraints[8] = (- 2 * x[7]) - x[8] + x[11]\n",
        "    return constraints\n",
        "\n",
        "# Initialize\n",
        "max_iter = 500 # No. of generations\n",
        "n_pop = 50 # Population size\n",
        "n_dim = 13 # No. of design variables\n",
        "pop = np.random.uniform(0, 1, size=(n_pop, n_dim)) # Range\n",
        "\n",
        "t1 = TLBO(pop, f_obj = objective_1, f_cons = constraint_1)\n",
        "\n",
        "print(\"No. of generation: \", max_iter)\n",
        "print(\"Population Size: \", n_pop)\n",
        "print(\"No. of design variables: \", n_dim)\n",
        "print(\"\\nBest Student found:\")\n",
        "print(t1)\n",
        "fitness_value = objective_1(t1)\n",
        "print(\"\\nFitness of best Student:\", fitness_value)"
      ]
    },
    {
      "cell_type": "code",
      "execution_count": 68,
      "metadata": {
        "colab": {
          "base_uri": "https://localhost:8080/"
        },
        "id": "ikbClHa3XYFa",
        "outputId": "86653476-1180-48e5-94b1-62b78e546e17"
      },
      "outputs": [
        {
          "name": "stdout",
          "output_type": "stream",
          "text": [
            "No. of generation:  2000\n",
            "Population Size:  50\n",
            "No. of design variables:  10\n",
            "\n",
            "Best Student found:\n",
            "[-1.  1.  1.  1.  1.  1.  1.  1.  1.  1.]\n",
            "\n",
            "Fitness of best Student:  -1.0\n"
          ]
        }
      ],
      "source": [
        "# Benchmark 2 - nonlinear maximization with 10 variables and 1 non linear equality constraint\n",
        "def objective_2(x):\n",
        "    for i in range(len(x)):\n",
        "      return np.prod(x * np.sqrt(i)**i)\n",
        "\n",
        "# Inequality constraint functions\n",
        "def constraint_2(x):\n",
        "    constraints = np.zeros(len(x))\n",
        "    constraints[0] = sum(x**2) - 1\n",
        "    return constraints\n",
        "\n",
        "# Initialize\n",
        "max_iter = 2000 # No. of generations\n",
        "n_pop = 50 # Population size\n",
        "n_dim = 10 # No. of design variables\n",
        "pop = np.random.uniform(0, 10, size=(n_pop, n_dim)) # Range\n",
        "\n",
        "t2 = TLBO(pop, f_obj = objective_2, f_cons = constraint_2)\n",
        "\n",
        "print(\"No. of generation: \", max_iter)\n",
        "print(\"Population Size: \", n_pop)\n",
        "print(\"No. of design variables: \", n_dim)\n",
        "print(\"\\nBest Student found:\")\n",
        "print(t2)\n",
        "fitness_value = objective_2(t2)\n",
        "print(\"\\nFitness of best Student: \", fitness_value)"
      ]
    },
    {
      "cell_type": "code",
      "execution_count": 70,
      "metadata": {
        "colab": {
          "base_uri": "https://localhost:8080/"
        },
        "id": "qsb8PWXTXYIF",
        "outputId": "1cd577fb-556c-4242-9149-13787b05d21e"
      },
      "outputs": [
        {
          "name": "stdout",
          "output_type": "stream",
          "text": [
            "No. of generation:  2000\n",
            "Population Size:  50\n",
            "No. of design variables:  7\n",
            "\n",
            "Best Student found:\n",
            "[1.00000000e+00 1.00000000e+00 3.92786298e-04 1.00000000e+00\n",
            " 2.95454033e-03 1.00000000e+00 1.00000000e+00]\n",
            "\n",
            "Fitness of best Student: 972.0\n"
          ]
        }
      ],
      "source": [
        "# Benchmark 3 - nonlinear minimization with 7 variables and 4 non linear inequality constraints\n",
        "def objective_3(x):\n",
        "    return ((x[0] - 10)**2) + (5 * (x[1] - 12)**2) + x[2]**4 + (3 * (x[3] - 11)**2) + (10 * x[4]**6) + 7 * x[5]**2 + x[6]**4 - (4 * (x[5] * x[6])) - 10 * x[5] - 8 * x[6]\n",
        "\n",
        "# Inequality constraint functions\n",
        "def constraint_3(x):\n",
        "    constraints = np.zeros(len(x))\n",
        "    constraints[0] = -127 + 2 * x[0]**2 + 3 * x[1]**4 + x[2] + 4 * x[3]**4 + 5 * x[4]\n",
        "    constraints[1] = -282 + 7 * x[0] + 3 * x[1] + 10 * x[2]**2 + x[3] - x[4]\n",
        "    constraints[2] = -196 + 23 * x[0] * (x[1]**2) + 6 * x[5]**2 - 8 * x[6]\n",
        "    constraints[3] = 4 * x[0]**2 + x[1]**2 - 3 * x[0] * x[1] + 2 * x[2]**2 + 5 * x[5] - 11 * x[6]\n",
        "    return constraints\n",
        "\n",
        "# Initialize\n",
        "max_iter = 2000 # No. of generations\n",
        "n_pop = 50 # Population size\n",
        "n_dim = 7 # No. of design variables\n",
        "pop = np.random.uniform(-10, 10, size=(n_pop, n_dim)) # Range\n",
        "\n",
        "t3 = TLBO(pop, f_obj = objective_3, f_cons = constraint_3)\n",
        "\n",
        "print(\"No. of generation: \", max_iter)\n",
        "print(\"Population Size: \", n_pop)\n",
        "print(\"No. of design variables: \", n_dim)\n",
        "print(\"\\nBest Student found:\")\n",
        "print(t3)\n",
        "fitness_value = objective_3(t3)\n",
        "print(\"\\nFitness of best Student:\", fitness_value)"
      ]
    },
    {
      "cell_type": "code",
      "execution_count": 71,
      "metadata": {
        "colab": {
          "base_uri": "https://localhost:8080/"
        },
        "id": "ixEEzd-BXYL-",
        "outputId": "c74417d6-6329-4d1a-a679-c1d27edea8d8"
      },
      "outputs": [
        {
          "name": "stdout",
          "output_type": "stream",
          "text": [
            "No. of generation:  2000\n",
            "Population Size:  50\n",
            "No. of design variables:  8\n",
            "\n",
            "Best Student found:\n",
            "[-1.         -1.         -1.          0.11013485 -1.         -1.\n",
            " -0.44185738  0.80476343]\n",
            "\n",
            "Fitness of best Student: -3.0\n"
          ]
        }
      ],
      "source": [
        "# Benchmark 4 - linear minimization with 8 variables and 3 non linear inequality and 3 linear inequality constraints\n",
        "def objective_4(x):\n",
        "    return x[0] + x[1] + x[2]\n",
        "\n",
        "# Inequality constraint functions\n",
        "def constraint_4(x):\n",
        "    constraints = np.zeros(len(x))\n",
        "    constraints[0] = -1 + 0.0025 * (x[3] + x[5])\n",
        "    constraints[1] = -1 + 0.0025 * (x[4] + x[6] - x[3])\n",
        "    constraints[2] = -1 + 0.01 * (x[7] - x[4])\n",
        "    constraints[3] = - x[0] * x[5] + 833.33252 * x[3] + 100 * x[0] - 83333.333\n",
        "    constraints[4] = - x[1] * x[6] + 1250 * x[4] + x[1] * x[3] - 1250 * x[3]\n",
        "    constraints[5] = - x[2] * x[7] + 1250000 + x[2] * x[4] - 2500 * x[4]\n",
        "    return constraints\n",
        "\n",
        "# Initialize\n",
        "max_iter = 2000 # No. of generations\n",
        "n_pop = 50 # Population size\n",
        "n_dim = 8 # No. of design variables\n",
        "pop = np.random.uniform(-1000, 10000, size=(n_pop, n_dim)) # Range\n",
        "\n",
        "t4 = TLBO(pop, f_obj = objective_4, f_cons = constraint_4)\n",
        "\n",
        "print(\"No. of generation: \", max_iter)\n",
        "print(\"Population Size: \", n_pop)\n",
        "print(\"No. of design variables: \", n_dim)\n",
        "print(\"\\nBest Student found:\")\n",
        "print(t4)\n",
        "fitness_value = objective_4(t4)\n",
        "print(\"\\nFitness of best Student:\", fitness_value)"
      ]
    },
    {
      "cell_type": "code",
      "execution_count": 72,
      "metadata": {
        "colab": {
          "base_uri": "https://localhost:8080/"
        },
        "id": "YhQzSNuwXYM4",
        "outputId": "a8b47351-babf-412b-ae5b-e9fcc6efa6c8"
      },
      "outputs": [
        {
          "name": "stdout",
          "output_type": "stream",
          "text": [
            "No. of generation:  1000\n",
            "Population Size:  50\n",
            "No. of design variables:  3\n",
            "\n",
            "Best Student found:\n",
            "[-1. -1. -1.]\n",
            "\n",
            "Fitness of best Student: -0.08\n"
          ]
        }
      ],
      "source": [
        "# Benchmark 5 - quadratic maximization with 3 variables and 9**3 = 729 non linear inequality constraints\n",
        "def objective_5(x):\n",
        "    return (100 - (x[0] - 5)**2 - (x[1] - 5)**2 - (x[2] - 5)**2)/100\n",
        "\n",
        "# Inequality constraint functions\n",
        "def constraint_5(x):\n",
        "    constraints = np.zeros(len(x))\n",
        "    for i in range(1, 10):\n",
        "      constraints[0] = (x[0] - i)**2 + (x[1] - i)**2 + (x[2] - i)**2\n",
        "      return constraints\n",
        "\n",
        "# Initialize\n",
        "max_iter = 1000 # No. of generations\n",
        "n_pop = 50 # Population size\n",
        "n_dim = 3 # No. of design variables\n",
        "pop = np.random.uniform(0, 10, size=(n_pop, n_dim)) # Range\n",
        "\n",
        "t5 = TLBO(pop, f_obj = objective_5, f_cons = constraint_5)\n",
        "\n",
        "print(\"No. of generation: \", max_iter)\n",
        "print(\"Population Size: \", n_pop)\n",
        "print(\"No. of design variables: \", n_dim)\n",
        "print(\"\\nBest Student found:\")\n",
        "print(t5)\n",
        "fitness_value = objective_5(t5)\n",
        "print(\"\\nFitness of best Student:\", fitness_value)"
      ]
    }
  ],
  "metadata": {
    "colab": {
      "provenance": []
    },
    "kernelspec": {
      "display_name": "Python 3 (ipykernel)",
      "language": "python",
      "name": "python3"
    },
    "language_info": {
      "codemirror_mode": {
        "name": "ipython",
        "version": 3
      },
      "file_extension": ".py",
      "mimetype": "text/x-python",
      "name": "python",
      "nbconvert_exporter": "python",
      "pygments_lexer": "ipython3",
      "version": "3.9.13"
    }
  },
  "nbformat": 4,
  "nbformat_minor": 0
}
